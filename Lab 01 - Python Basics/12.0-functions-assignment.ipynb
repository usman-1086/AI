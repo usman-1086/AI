{
 "cells": [
  {
   "cell_type": "markdown",
   "metadata": {},
   "source": [
    "# Module 4: Advanced Functions Assignments\n",
    "## Lesson 4.1: Defining Functions\n",
    "### Assignment 1: Fibonacci Sequence with Memoization\n",
    "\n",
    "Define a recursive function to calculate the nth Fibonacci number using memoization. Test the function with different inputs.\n",
    "\n",
    "### Assignment 2: Function with Nested Default Arguments\n",
    "\n",
    "Define a function that takes two arguments, a and b, where b is a dictionary with a default value of an empty dictionary. The function should add a new key-value pair to the dictionary and return it. Test the function with different inputs.\n",
    "\n",
    "### Assignment 3: Function with Variable Keyword Arguments\n",
    "\n",
    "Define a function that takes a variable number of keyword arguments and returns a dictionary containing only those key-value pairs where the value is an integer. Test the function with different inputs.\n",
    "\n",
    "### Assignment 4: Function with Callback\n",
    "\n",
    "Define a function that takes another function as a callback and a list of integers. The function should apply the callback to each integer in the list and return a new list with the results. Test with different callback functions.\n",
    "\n",
    "### Assignment 5: Function that Returns a Function\n",
    "\n",
    "Define a function that returns another function. The returned function should take an integer and return its square. Test the returned function with different inputs.\n",
    "\n",
    "### Assignment 6: Function with Decorators\n",
    "\n",
    "Define a function that calculates the time taken to execute another function. Apply this decorator to a function that performs a complex calculation. Test the decorated function with different inputs.\n",
    "\n",
    "### Assignment 7: Higher-Order Function for Filtering and Mapping\n",
    "\n",
    "Define a higher-order function that takes two functions, a filter function and a map function, along with a list of integers. The higher-order function should first filter the integers using the filter function and then apply the map function to the filtered integers. Test with different filter and map functions.\n",
    "\n",
    "### Assignment 8: Function Composition\n",
    "\n",
    "Define a function that composes two functions, f and g, such that the result is f(g(x)). Test with different functions f and g.\n",
    "\n",
    "### Assignment 9: Partial Function Application\n",
    "\n",
    "Use the functools.partial function to create a new function that multiplies its input by 2. Test the new function with different inputs.\n",
    "\n",
    "### Assignment 10: Function with Error Handling\n",
    "\n",
    "Define a function that takes a list of integers and returns their average. The function should handle any errors that occur (e.g., empty list) and return None in such cases. Test with different inputs.\n",
    "\n",
    "### Assignment 11: Function with Generators\n",
    "\n",
    "Define a function that generates an infinite sequence of Fibonacci numbers. Test by printing the first 10 numbers in the sequence.\n",
    "\n",
    "### Assignment 12: Currying\n",
    "\n",
    "Define a curried function that takes three arguments, one at a time, and returns their product. Test the function by providing arguments one at a time.\n",
    "\n",
    "### Assignment 13: Function with Context Manager\n",
    "\n",
    "Define a function that uses a context manager to write a list of integers to a file. The function should handle any errors that occur during file operations. Test with different lists.\n",
    "\n",
    "### Assignment 14: Function with Multiple Return Types\n",
    "\n",
    "Define a function that takes a list of mixed data types (integers, strings, and floats) and returns three lists: one containing all the integers, one containing all the strings, and one containing all the floats. Test with different inputs.\n",
    "\n",
    "### Assignment 15: Function with State\n",
    "\n",
    "Define a function that maintains state between calls using a mutable default argument. The function should keep track of how many times it has been called. Test by calling the function multiple times."
   ]
  },
  {
   "cell_type": "code",
   "execution_count": null,
   "metadata": {},
   "outputs": [],
   "source": [
    "import functools\n",
    "import time"
   ]
  },
  {
   "cell_type": "code",
   "execution_count": 1,
   "id": "53e8a1ec",
   "metadata": {},
   "outputs": [
    {
     "name": "stdout",
     "output_type": "stream",
     "text": [
      "Fibonacci(10): 55\n"
     ]
    }
   ],
   "source": [
    "# Assignment 1: Fibonacci Sequence with Memoization\n",
    "def fibonacci(n, memo={}):\n",
    "    if n in memo:\n",
    "        return memo[n]\n",
    "    if n <= 1:\n",
    "        return n\n",
    "    memo[n] = fibonacci(n-1, memo) + fibonacci(n-2, memo)\n",
    "    return memo[n]\n",
    "\n",
    "# Testing Assignment 1\n",
    "print(\"Fibonacci(10):\", fibonacci(10))"
   ]
  },
  {
   "cell_type": "code",
   "execution_count": null,
   "id": "bbc27309",
   "metadata": {},
   "outputs": [
    {
     "name": "stdout",
     "output_type": "stream",
     "text": [
      "{'name': 'Value for name'}\n",
      "{'name': 'Value for name', 'age': 'Value for age'}\n"
     ]
    }
   ],
   "source": [
    "# # Assignment 2: Function with Nested Default Arguments\n",
    "# def update_dict(a, b={}):\n",
    "#     b[a] = f\"Value for {a}\"\n",
    "#     return b\n",
    "\n",
    "# # Testing\n",
    "# print(update_dict(\"name\"))  # {'name': 'Value for name'}\n",
    "# print(update_dict(\"age\"))   # {'name': 'Value for name', 'age': 'Value for age'}\n",
    "\n"
   ]
  },
  {
   "cell_type": "code",
   "execution_count": null,
   "id": "4c321107",
   "metadata": {},
   "outputs": [
    {
     "name": "stdout",
     "output_type": "stream",
     "text": [
      "Filter Integers: {'a': 1, 'c': 3, 'd': 7}\n"
     ]
    }
   ],
   "source": [
    "# Assignment 3: Function with Variable Keyword Arguments\n",
    "def filter_integers(**kwargs):\n",
    "    return {k: v for k, v in kwargs.items() if isinstance(v, int)}\n",
    "\n",
    "# Testing Assignment 3\n",
    "print(\"Filter Integers:\", filter_integers(a=1, b=\"hello\", c=3, d=7))\n"
   ]
  },
  {
   "cell_type": "code",
   "execution_count": 7,
   "id": "d06b1456",
   "metadata": {},
   "outputs": [
    {
     "name": "stdout",
     "output_type": "stream",
     "text": [
      "Apply Callback (double values): [2, 4, 6, 8]\n"
     ]
    }
   ],
   "source": [
    "# Assignment 4: Function with Callback\n",
    "def apply_callback(callback, numbers):\n",
    "    return [callback(num) for num in numbers]\n",
    "\n",
    "# Testing Assignment 4\n",
    "print(\"Apply Callback (double values):\", apply_callback(lambda x: x * 2, [1, 2, 3, 4]))\n"
   ]
  },
  {
   "cell_type": "code",
   "execution_count": 8,
   "id": "e5c174b3",
   "metadata": {},
   "outputs": [
    {
     "name": "stdout",
     "output_type": "stream",
     "text": [
      "Square Function: 25\n"
     ]
    }
   ],
   "source": [
    "# Assignment 5: Function that Returns a Function\n",
    "def get_square_function():\n",
    "    return lambda x: x ** 2\n",
    "\n",
    "# Testing Assignment 5\n",
    "square_func = get_square_function()\n",
    "print(\"Square Function:\", square_func(5))\n"
   ]
  },
  {
   "cell_type": "code",
   "execution_count": null,
   "id": "93d3fe92",
   "metadata": {},
   "outputs": [
    {
     "name": "stdout",
     "output_type": "stream",
     "text": [
      "Execution time: 0.00095 seconds\n",
      "Complex Calculation: 333283335000\n"
     ]
    }
   ],
   "source": [
    "# # Assignment 6: Function with Decorators\n",
    "# def timer_decorator(func):\n",
    "#     def wrapper(*args, **kwargs):\n",
    "#         start = time.time()\n",
    "#         result = func(*args, **kwargs)\n",
    "#         end = time.time()\n",
    "#         print(f\"Execution time: {end - start:.5f} seconds\")\n",
    "#         return result\n",
    "#     return wrapper\n",
    "\n",
    "# @timer_decorator\n",
    "# def complex_calculation(n):\n",
    "#     return sum(i**2 for i in range(n))\n",
    "\n",
    "# # Testing Assignment 6\n",
    "# print(\"Complex Calculation:\", complex_calculation(10000))\n"
   ]
  },
  {
   "cell_type": "code",
   "execution_count": 7,
   "id": "f8d44a16",
   "metadata": {},
   "outputs": [
    {
     "name": "stdout",
     "output_type": "stream",
     "text": [
      "Filter and Map: [4, 16]\n"
     ]
    }
   ],
   "source": [
    "# Assignment 7: Higher-Order Function for Filtering and Mapping\n",
    "def filter_and_map(filter_func, map_func, numbers):\n",
    "    return [map_func(num) for num in numbers if filter_func(num)]\n",
    "\n",
    "# Testing Assignment 7\n",
    "print(\"Filter and Map:\", filter_and_map(lambda x: x % 2 == 0, lambda x: x ** 2, [1, 2, 3, 4, 5]))\n",
    "\n",
    "\n"
   ]
  },
  {
   "cell_type": "code",
   "execution_count": 1,
   "id": "efb41bfd",
   "metadata": {},
   "outputs": [
    {
     "name": "stdout",
     "output_type": "stream",
     "text": [
      "Function Composition: 7\n"
     ]
    }
   ],
   "source": [
    "# Assignment 8: Function Composition\n",
    "def compose(f, g):\n",
    "    return lambda x: f(g(x))\n",
    "\n",
    "# Testing Assignment 8\n",
    "composed_func = compose(lambda x: x + 1, lambda x: x * 2)\n",
    "print(\"Function Composition:\", composed_func(3))\n",
    "\n",
    "\n"
   ]
  },
  {
   "cell_type": "code",
   "execution_count": null,
   "id": "9bd18401",
   "metadata": {},
   "outputs": [
    {
     "name": "stdout",
     "output_type": "stream",
     "text": [
      "Multiply by 2: 10\n"
     ]
    }
   ],
   "source": [
    "# # Assignment 9: Partial Function Application\n",
    "# multiply_by_2 = functools.partial(lambda x, y: x * y, 2)\n",
    "\n",
    "# # Testing Assignment 9\n",
    "# print(\"Multiply by 2:\", multiply_by_2(5))\n",
    "\n",
    "\n"
   ]
  },
  {
   "cell_type": "code",
   "execution_count": null,
   "id": "a27e7e45",
   "metadata": {},
   "outputs": [
    {
     "name": "stdout",
     "output_type": "stream",
     "text": [
      "Safe Average: 2.0\n",
      "Safe Average (empty list): None\n"
     ]
    }
   ],
   "source": [
    "# # Assignment 10: Function with Error Handling\n",
    "# def safe_average(numbers):\n",
    "#     try:\n",
    "#         return sum(numbers) / len(numbers)\n",
    "#     except ZeroDivisionError:\n",
    "#         return None\n",
    "\n",
    "# # Testing Assignment 10\n",
    "# print(\"Safe Average:\", safe_average([1, 2, 3]))\n",
    "# print(\"Safe Average (empty list):\", safe_average([]))\n",
    "\n",
    "\n"
   ]
  },
  {
   "cell_type": "code",
   "execution_count": null,
   "id": "e41e03dd",
   "metadata": {},
   "outputs": [
    {
     "name": "stdout",
     "output_type": "stream",
     "text": [
      "First 10 Fibonacci numbers: [0, 1, 1, 2, 3, 5, 8, 13, 21, 34]\n"
     ]
    }
   ],
   "source": [
    "# # Assignment 11: Function with Generators\n",
    "# def fibonacci_generator():\n",
    "#     a, b = 0, 1\n",
    "#     while True:\n",
    "#         yield a\n",
    "#         a, b = b, a + b\n",
    "\n",
    "# # Testing Assignment 11\n",
    "# fib_gen = fibonacci_generator()\n",
    "# print(\"First 10 Fibonacci numbers:\", [next(fib_gen) for _ in range(10)])\n",
    "\n",
    "\n"
   ]
  },
  {
   "cell_type": "code",
   "execution_count": null,
   "id": "fe2e1b3c",
   "metadata": {},
   "outputs": [
    {
     "name": "stdout",
     "output_type": "stream",
     "text": [
      "Curried Multiplication: 24\n"
     ]
    }
   ],
   "source": [
    "# # Assignment 12: Currying\n",
    "# def curried_multiply(x):\n",
    "#     return lambda y: lambda z: x * y * z\n",
    "\n",
    "# # Testing Assignment 12\n",
    "# curried_func = curried_multiply(2)(3)(4)\n",
    "# print(\"Curried Multiplication:\", curried_func)\n",
    "\n",
    "\n"
   ]
  },
  {
   "cell_type": "code",
   "execution_count": null,
   "id": "fc63cf28",
   "metadata": {},
   "outputs": [
    {
     "name": "stdout",
     "output_type": "stream",
     "text": [
      "Numbers written to numbers.txt\n"
     ]
    }
   ],
   "source": [
    "# # Assignment 13: Function with Context Manager\n",
    "# def write_numbers_to_file(filename, numbers):\n",
    "#     try:\n",
    "#         with open(filename, 'w') as f:\n",
    "#             f.write(\"\\n\".join(map(str, numbers)))\n",
    "#         print(f\"Numbers written to {filename}\")\n",
    "#     except IOError as e:\n",
    "#         print(f\"File error: {e}\")\n",
    "\n",
    "# # Testing Assignment 13\n",
    "# write_numbers_to_file(\"numbers.txt\", [10, 20, 30])\n",
    "\n",
    "\n"
   ]
  },
  {
   "cell_type": "code",
   "execution_count": 10,
   "id": "53edad7f",
   "metadata": {},
   "outputs": [
    {
     "name": "stdout",
     "output_type": "stream",
     "text": [
      "Separate Types: ([1, 2], ['hello', 'world'], [3.5, 4.2])\n"
     ]
    }
   ],
   "source": [
    "# Assignment 14: Function with Multiple Return Types\n",
    "def separate_types(lst):\n",
    "    ints, strs, floats = [], [], []\n",
    "    for item in lst:\n",
    "        if isinstance(item, int):\n",
    "            ints.append(item)\n",
    "        elif isinstance(item, str):\n",
    "            strs.append(item)\n",
    "        elif isinstance(item, float):\n",
    "            floats.append(item)\n",
    "    return ints, strs, floats\n",
    "\n",
    "# Testing Assignment 14\n",
    "print(\"Separate Types:\", separate_types([1, \"hello\", 3.5, 2, \"world\", 4.2]))\n",
    "\n",
    "\n"
   ]
  },
  {
   "cell_type": "code",
   "execution_count": null,
   "id": "fd02cc0b",
   "metadata": {},
   "outputs": [
    {
     "name": "stdout",
     "output_type": "stream",
     "text": [
      "Stateful Counter: 1\n",
      "Stateful Counter: 2\n",
      "Stateful Counter: 3\n",
      "Stateful Counter: 4\n"
     ]
    }
   ],
   "source": [
    "# # Assignment 15: Function with State\n",
    "# def stateful_counter(counter={'count': 0}):\n",
    "#     counter['count'] += 1\n",
    "#     return counter['count']\n",
    "\n",
    "# # Testing Assignment 15\n",
    "# print(\"Stateful Counter:\", stateful_counter())\n",
    "# print(\"Stateful Counter:\", stateful_counter())\n",
    "# print(\"Stateful Counter:\", stateful_counter())\n",
    "# print(\"Stateful Counter:\", stateful_counter())"
   ]
  }
 ],
 "metadata": {
  "kernelspec": {
   "display_name": "ai-7th",
   "language": "python",
   "name": "python3"
  },
  "language_info": {
   "codemirror_mode": {
    "name": "ipython",
    "version": 3
   },
   "file_extension": ".py",
   "mimetype": "text/x-python",
   "name": "python",
   "nbconvert_exporter": "python",
   "pygments_lexer": "ipython3",
   "version": "3.13.1"
  }
 },
 "nbformat": 4,
 "nbformat_minor": 5
}
